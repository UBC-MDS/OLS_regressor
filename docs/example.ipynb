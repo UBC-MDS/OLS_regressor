{
    "cells": [
        {
            "cell_type": "markdown",
            "metadata": {},
            "source": [
                "# Example usage\n",
                "\n",
                "To use `aussie_car_prices` in a project:"
            ]
        },
        {
            "cell_type": "code",
            "execution_count": 33,
            "metadata": {},
            "outputs": [],
            "source": [
                "from ols_regressor.regressor import LinearRegressor\n",
                "from ols_regressor.cross_validate import cross_validate\n",
                "import numpy as np\n",
                "import pandas as pd\n",
                "from sklearn.preprocessing import OneHotEncoder, StandardScaler, OrdinalEncoder\n",
                "from sklearn.linear_model import LinearRegression\n",
                "from sklearn.compose import make_column_transformer\n",
                "from sklearn.model_selection import train_test_split"
            ]
        },
        {
            "cell_type": "code",
            "execution_count": 23,
            "metadata": {},
            "outputs": [
                {
                    "data": {
                        "text/html": [
                            "<div>\n",
                            "<style scoped>\n",
                            "    .dataframe tbody tr th:only-of-type {\n",
                            "        vertical-align: middle;\n",
                            "    }\n",
                            "\n",
                            "    .dataframe tbody tr th {\n",
                            "        vertical-align: top;\n",
                            "    }\n",
                            "\n",
                            "    .dataframe thead th {\n",
                            "        text-align: right;\n",
                            "    }\n",
                            "</style>\n",
                            "<table border=\"1\" class=\"dataframe\">\n",
                            "  <thead>\n",
                            "    <tr style=\"text-align: right;\">\n",
                            "      <th></th>\n",
                            "      <th>Brand</th>\n",
                            "      <th>UsedOrNew</th>\n",
                            "      <th>Transmission</th>\n",
                            "      <th>DriveType</th>\n",
                            "      <th>FuelType</th>\n",
                            "      <th>BodyType</th>\n",
                            "      <th>ExteriorColour</th>\n",
                            "      <th>Year</th>\n",
                            "      <th>Kilometres</th>\n",
                            "      <th>Doors</th>\n",
                            "      <th>Seats</th>\n",
                            "      <th>Price</th>\n",
                            "      <th>Engine_cylinder_number</th>\n",
                            "      <th>Engine_total_volume</th>\n",
                            "      <th>fuel_comsumption_liter</th>\n",
                            "      <th>fuel_comsumption_km</th>\n",
                            "    </tr>\n",
                            "  </thead>\n",
                            "  <tbody>\n",
                            "    <tr>\n",
                            "      <th>0</th>\n",
                            "      <td>Ssangyong</td>\n",
                            "      <td>DEMO</td>\n",
                            "      <td>Automatic</td>\n",
                            "      <td>AWD</td>\n",
                            "      <td>Diesel</td>\n",
                            "      <td>SUV</td>\n",
                            "      <td>White</td>\n",
                            "      <td>2022</td>\n",
                            "      <td>5595.0</td>\n",
                            "      <td>4.0</td>\n",
                            "      <td>7.0</td>\n",
                            "      <td>51990.0</td>\n",
                            "      <td>4.0</td>\n",
                            "      <td>2.2</td>\n",
                            "      <td>8.7</td>\n",
                            "      <td>100.0</td>\n",
                            "    </tr>\n",
                            "    <tr>\n",
                            "      <th>1</th>\n",
                            "      <td>MG</td>\n",
                            "      <td>USED</td>\n",
                            "      <td>Automatic</td>\n",
                            "      <td>Front</td>\n",
                            "      <td>Premium</td>\n",
                            "      <td>Hatchback</td>\n",
                            "      <td>Black</td>\n",
                            "      <td>2022</td>\n",
                            "      <td>16.0</td>\n",
                            "      <td>5.0</td>\n",
                            "      <td>5.0</td>\n",
                            "      <td>19990.0</td>\n",
                            "      <td>4.0</td>\n",
                            "      <td>1.5</td>\n",
                            "      <td>6.7</td>\n",
                            "      <td>100.0</td>\n",
                            "    </tr>\n",
                            "    <tr>\n",
                            "      <th>2</th>\n",
                            "      <td>BMW</td>\n",
                            "      <td>USED</td>\n",
                            "      <td>Automatic</td>\n",
                            "      <td>Rear</td>\n",
                            "      <td>Premium</td>\n",
                            "      <td>Coupe</td>\n",
                            "      <td>Grey</td>\n",
                            "      <td>2022</td>\n",
                            "      <td>8472.0</td>\n",
                            "      <td>2.0</td>\n",
                            "      <td>4.0</td>\n",
                            "      <td>108988.0</td>\n",
                            "      <td>4.0</td>\n",
                            "      <td>2.0</td>\n",
                            "      <td>6.6</td>\n",
                            "      <td>100.0</td>\n",
                            "    </tr>\n",
                            "    <tr>\n",
                            "      <th>3</th>\n",
                            "      <td>Mercedes-Benz</td>\n",
                            "      <td>USED</td>\n",
                            "      <td>Automatic</td>\n",
                            "      <td>Rear</td>\n",
                            "      <td>Premium</td>\n",
                            "      <td>Coupe</td>\n",
                            "      <td>White</td>\n",
                            "      <td>2011</td>\n",
                            "      <td>136517.0</td>\n",
                            "      <td>2.0</td>\n",
                            "      <td>4.0</td>\n",
                            "      <td>32990.0</td>\n",
                            "      <td>8.0</td>\n",
                            "      <td>5.5</td>\n",
                            "      <td>11.0</td>\n",
                            "      <td>100.0</td>\n",
                            "    </tr>\n",
                            "    <tr>\n",
                            "      <th>4</th>\n",
                            "      <td>Renault</td>\n",
                            "      <td>USED</td>\n",
                            "      <td>Automatic</td>\n",
                            "      <td>Front</td>\n",
                            "      <td>Unleaded</td>\n",
                            "      <td>SUV</td>\n",
                            "      <td>Grey</td>\n",
                            "      <td>2022</td>\n",
                            "      <td>1035.0</td>\n",
                            "      <td>4.0</td>\n",
                            "      <td>5.0</td>\n",
                            "      <td>34990.0</td>\n",
                            "      <td>4.0</td>\n",
                            "      <td>1.3</td>\n",
                            "      <td>6.0</td>\n",
                            "      <td>100.0</td>\n",
                            "    </tr>\n",
                            "  </tbody>\n",
                            "</table>\n",
                            "</div>"
                        ],
                        "text/plain": [
                            "           Brand UsedOrNew Transmission DriveType  FuelType   BodyType  \\\n",
                            "0      Ssangyong      DEMO    Automatic       AWD    Diesel        SUV   \n",
                            "1             MG      USED    Automatic     Front   Premium  Hatchback   \n",
                            "2            BMW      USED    Automatic      Rear   Premium      Coupe   \n",
                            "3  Mercedes-Benz      USED    Automatic      Rear   Premium      Coupe   \n",
                            "4        Renault      USED    Automatic     Front  Unleaded        SUV   \n",
                            "\n",
                            "  ExteriorColour  Year  Kilometres  Doors  Seats     Price  \\\n",
                            "0         White   2022      5595.0    4.0    7.0   51990.0   \n",
                            "1         Black   2022        16.0    5.0    5.0   19990.0   \n",
                            "2          Grey   2022      8472.0    2.0    4.0  108988.0   \n",
                            "3         White   2011    136517.0    2.0    4.0   32990.0   \n",
                            "4          Grey   2022      1035.0    4.0    5.0   34990.0   \n",
                            "\n",
                            "   Engine_cylinder_number  Engine_total_volume  fuel_comsumption_liter  \\\n",
                            "0                     4.0                  2.2                     8.7   \n",
                            "1                     4.0                  1.5                     6.7   \n",
                            "2                     4.0                  2.0                     6.6   \n",
                            "3                     8.0                  5.5                    11.0   \n",
                            "4                     4.0                  1.3                     6.0   \n",
                            "\n",
                            "   fuel_comsumption_km  \n",
                            "0                100.0  \n",
                            "1                100.0  \n",
                            "2                100.0  \n",
                            "3                100.0  \n",
                            "4                100.0  "
                        ]
                    },
                    "execution_count": 23,
                    "metadata": {},
                    "output_type": "execute_result"
                }
            ],
            "source": [
                "data = pd.read_csv(\"../data/preprocessed_data.csv\")\n",
                "data.head()"
            ]
        },
        {
            "cell_type": "code",
            "execution_count": 24,
            "metadata": {},
            "outputs": [
                {
                    "data": {
                        "text/plain": [
                            "fuel_comsumption_km\n",
                            "100.0    16734\n",
                            "Name: count, dtype: int64"
                        ]
                    },
                    "execution_count": 24,
                    "metadata": {},
                    "output_type": "execute_result"
                }
            ],
            "source": [
                "data[\"fuel_comsumption_km\"].value_counts()"
            ]
        },
        {
            "cell_type": "code",
            "execution_count": 25,
            "metadata": {},
            "outputs": [
                {
                    "data": {
                        "text/plain": [
                            "Index(['Brand', 'UsedOrNew', 'Transmission', 'DriveType', 'FuelType',\n",
                            "       'BodyType', 'ExteriorColour', 'Year', 'Kilometres', 'Doors', 'Seats',\n",
                            "       'Price', 'Engine_cylinder_number', 'Engine_total_volume',\n",
                            "       'fuel_comsumption_liter', 'fuel_comsumption_km'],\n",
                            "      dtype='object')"
                        ]
                    },
                    "execution_count": 25,
                    "metadata": {},
                    "output_type": "execute_result"
                }
            ],
            "source": [
                "data.columns"
            ]
        },
        {
            "cell_type": "code",
            "execution_count": 26,
            "metadata": {},
            "outputs": [],
            "source": [
                "X, y = data.drop(columns=[\"Price\"]), data[\"Price\"]\n",
                "X_train, X_test, y_train, y_test = train_test_split(X, y, test_size=0.3, random_state=42)"
            ]
        },
        {
            "cell_type": "code",
            "execution_count": 27,
            "metadata": {},
            "outputs": [
                {
                    "data": {
                        "text/plain": [
                            "array([[ 0.        ,  0.        ,  0.        , ...,  1.49185096,\n",
                            "         1.39327292,  1.50962043],\n",
                            "       [ 0.        ,  0.        ,  0.        , ..., -0.4465423 ,\n",
                            "        -0.69119385, -0.71342509],\n",
                            "       [ 0.        ,  0.        ,  0.        , ..., -0.51867241,\n",
                            "        -1.03860498, -1.75689544],\n",
                            "       ...,\n",
                            "       [ 0.        ,  0.        ,  0.        , ..., -0.00518898,\n",
                            "        -0.45958643, -0.62268854],\n",
                            "       [ 0.        ,  0.        ,  0.        , ...,  0.65774406,\n",
                            "        -0.45958643, -0.84952992],\n",
                            "       [ 0.        ,  0.        ,  0.        , ..., -0.22674326,\n",
                            "        -1.27021239,  0.37541353]])"
                        ]
                    },
                    "execution_count": 27,
                    "metadata": {},
                    "output_type": "execute_result"
                }
            ],
            "source": [
                "categorical_features = ['Brand', 'UsedOrNew', 'Transmission', 'DriveType', 'FuelType',\n",
                "       'BodyType', 'ExteriorColour']\n",
                "ordinal_features = ['Doors', 'Seats', 'Engine_cylinder_number']\n",
                "numeric_features = ['Year', 'Kilometres', 'Engine_total_volume', 'fuel_comsumption_liter']\n",
                "drop_features = ['fuel_comsumption_liter']\n",
                "ct = make_column_transformer(\n",
                "    (OneHotEncoder(handle_unknown=\"ignore\", sparse_output=False), categorical_features),\n",
                "    (OrdinalEncoder(handle_unknown=\"use_encoded_value\", unknown_value=999), ordinal_features),\n",
                "    (StandardScaler(), numeric_features),\n",
                "    (\"drop\", drop_features)\n",
                ")\n",
                "X_train_encoded = ct.fit_transform(X_train)\n",
                "X_train_encoded"
            ]
        },
        {
            "cell_type": "code",
            "execution_count": 28,
            "metadata": {},
            "outputs": [
                {
                    "data": {
                        "text/plain": [
                            "array([[ 0.        ,  0.        ,  0.        , ...,  1.49185096,\n",
                            "         1.39327292,  1.50962043],\n",
                            "       [ 0.        ,  0.        ,  0.        , ..., -0.4465423 ,\n",
                            "        -0.69119385, -0.71342509],\n",
                            "       [ 0.        ,  0.        ,  0.        , ..., -0.51867241,\n",
                            "        -1.03860498, -1.75689544],\n",
                            "       ...,\n",
                            "       [ 0.        ,  0.        ,  0.        , ..., -0.00518898,\n",
                            "        -0.45958643, -0.62268854],\n",
                            "       [ 0.        ,  0.        ,  0.        , ...,  0.65774406,\n",
                            "        -0.45958643, -0.84952992],\n",
                            "       [ 0.        ,  0.        ,  0.        , ..., -0.22674326,\n",
                            "        -1.27021239,  0.37541353]])"
                        ]
                    },
                    "execution_count": 28,
                    "metadata": {},
                    "output_type": "execute_result"
                }
            ],
            "source": [
                "X_test_encoded = ct.transform(X_test)\n",
                "X_train_encoded"
            ]
        },
        {
            "cell_type": "code",
            "execution_count": 55,
            "metadata": {},
            "outputs": [
                {
                    "data": {
                        "text/plain": [
                            "-2916815.061663288"
                        ]
                    },
                    "execution_count": 55,
                    "metadata": {},
                    "output_type": "execute_result"
                }
            ],
            "source": [
                "model = LinearRegressor()\n",
                "model.fit(X_train_encoded, y_train)\n",
                "model.score(X_train_encoded, y_train)"
            ]
        },
        {
            "cell_type": "code",
            "execution_count": 36,
            "metadata": {},
            "outputs": [
                {
                    "data": {
                        "text/plain": [
                            "array([ 2.54024347e+20,  2.54024347e+20,  2.54024347e+20,  2.54024347e+20,\n",
                            "        2.54024347e+20,  2.54024347e+20,  2.54024347e+20,  1.08775639e+22,\n",
                            "        2.54024347e+20,  2.54024347e+20,  2.54024347e+20,  2.54024347e+20,\n",
                            "        2.54024347e+20,  2.54024347e+20,  2.54024347e+20,  2.54024347e+20,\n",
                            "        2.54024347e+20,  2.54024347e+20,  2.54024347e+20,  2.54024347e+20,\n",
                            "        2.54024347e+20,  2.54024347e+20,  2.54024347e+20,  2.54024347e+20,\n",
                            "        2.54024347e+20,  2.54024347e+20,  2.54024347e+20,  2.54024347e+20,\n",
                            "        2.54024347e+20,  2.54024347e+20,  2.54024347e+20,  2.54024347e+20,\n",
                            "        2.54024347e+20,  2.54024347e+20,  2.54024347e+20,  1.08775639e+22,\n",
                            "        2.54024347e+20,  2.54024347e+20,  2.54024347e+20,  2.54024347e+20,\n",
                            "        2.54024347e+20,  2.54024347e+20,  2.54024347e+20,  2.54024347e+20,\n",
                            "        2.54024347e+20,  2.54024347e+20,  2.54024347e+20,  2.54024347e+20,\n",
                            "        2.54024347e+20,  2.54024347e+20,  2.54024347e+20,  2.54024347e+20,\n",
                            "        2.54024347e+20,  2.54024347e+20,  2.54024347e+20,  2.54024347e+20,\n",
                            "        2.54024347e+20,  2.54024347e+20,  2.54024347e+20,  2.54024347e+20,\n",
                            "        2.54024347e+20,  2.54024347e+20,  2.54024347e+20,  2.54024347e+20,\n",
                            "        2.54024347e+20,  2.54024347e+20,  2.54024347e+20,  2.54024347e+20,\n",
                            "        2.54024347e+20,  2.54024347e+20,  2.54024347e+20,  2.54024347e+20,\n",
                            "        2.54024347e+20,  2.54024347e+20,  2.54024347e+20, -3.18571256e+19,\n",
                            "       -3.18571256e+19, -3.18571256e+19, -6.82044372e+19, -6.82044372e+19,\n",
                            "       -1.19460817e+20, -1.19460817e+20, -1.19460817e+20, -1.19460817e+20,\n",
                            "       -1.19460817e+20, -3.07833704e+19, -3.07833704e+19, -3.07833704e+19,\n",
                            "       -3.07833704e+19, -3.07833704e+19, -3.07833704e+19, -3.07833704e+19,\n",
                            "       -3.07833704e+19, -3.71859764e+18, -3.71859764e+18, -3.71859764e+18,\n",
                            "       -3.71859764e+18, -3.71859764e+18, -3.71859764e+18, -3.71859764e+18,\n",
                            "       -3.71859764e+18, -3.71859764e+18, -3.71859764e+18,  3.28712937e+05,\n",
                            "       -1.06235396e+22, -3.06593016e+06, -1.70671354e+06,  4.32926107e+05,\n",
                            "        3.28337637e+05,  3.80521611e+05,  3.40271783e+05,  3.04722741e+05,\n",
                            "        3.16789116e+05,  3.26294815e+05,  3.42975681e+05,  2.41654827e+05,\n",
                            "        2.54496982e+05, -1.48677795e+05,  3.44696657e+05,  9.32274353e+04,\n",
                            "        3.01368543e+05,  4.07916060e+05,  3.90110490e+05,  3.83955700e+05,\n",
                            "        3.30675093e+05,  3.16129633e+05,  3.79864791e+05,  3.36677168e+05,\n",
                            "        3.30585576e+05,  3.33073653e+05,  2.43858122e+02,  5.68393178e+02,\n",
                            "        7.05097767e+02,  6.44909597e+03, -9.82334576e+03,  6.64661923e+03,\n",
                            "        1.98428109e+02])"
                        ]
                    },
                    "execution_count": 36,
                    "metadata": {},
                    "output_type": "execute_result"
                }
            ],
            "source": [
                "model.coef"
            ]
        },
        {
            "cell_type": "code",
            "execution_count": 53,
            "metadata": {},
            "outputs": [],
            "source": [
                "model = LinearRegression()\n",
                "# model.fit(X_train_encoded, y_train)\n",
                "# model.score(X_train_encoded, y_train)"
            ]
        },
        {
            "cell_type": "code",
            "execution_count": 47,
            "metadata": {},
            "outputs": [],
            "source": [
                "y_train = y_train.to_numpy()"
            ]
        },
        {
            "cell_type": "code",
            "execution_count": 54,
            "metadata": {},
            "outputs": [
                {
                    "data": {
                        "text/html": [
                            "<div>\n",
                            "<style scoped>\n",
                            "    .dataframe tbody tr th:only-of-type {\n",
                            "        vertical-align: middle;\n",
                            "    }\n",
                            "\n",
                            "    .dataframe tbody tr th {\n",
                            "        vertical-align: top;\n",
                            "    }\n",
                            "\n",
                            "    .dataframe thead th {\n",
                            "        text-align: right;\n",
                            "    }\n",
                            "</style>\n",
                            "<table border=\"1\" class=\"dataframe\">\n",
                            "  <thead>\n",
                            "    <tr style=\"text-align: right;\">\n",
                            "      <th></th>\n",
                            "      <th>train_score</th>\n",
                            "      <th>test_score</th>\n",
                            "      <th>fit_time</th>\n",
                            "      <th>score_time</th>\n",
                            "    </tr>\n",
                            "  </thead>\n",
                            "  <tbody>\n",
                            "    <tr>\n",
                            "      <th>0</th>\n",
                            "      <td>0.693632</td>\n",
                            "      <td>-6.314807e+18</td>\n",
                            "      <td>0.073595</td>\n",
                            "      <td>0.000639</td>\n",
                            "    </tr>\n",
                            "    <tr>\n",
                            "      <th>1</th>\n",
                            "      <td>0.708397</td>\n",
                            "      <td>-9.959198e+19</td>\n",
                            "      <td>0.130337</td>\n",
                            "      <td>0.000712</td>\n",
                            "    </tr>\n",
                            "    <tr>\n",
                            "      <th>2</th>\n",
                            "      <td>0.688486</td>\n",
                            "      <td>-5.523258e+18</td>\n",
                            "      <td>0.138305</td>\n",
                            "      <td>0.000667</td>\n",
                            "    </tr>\n",
                            "    <tr>\n",
                            "      <th>3</th>\n",
                            "      <td>0.746332</td>\n",
                            "      <td>-8.100743e+19</td>\n",
                            "      <td>0.125690</td>\n",
                            "      <td>0.000623</td>\n",
                            "    </tr>\n",
                            "    <tr>\n",
                            "      <th>4</th>\n",
                            "      <td>0.693517</td>\n",
                            "      <td>-9.473059e+18</td>\n",
                            "      <td>0.067960</td>\n",
                            "      <td>0.000566</td>\n",
                            "    </tr>\n",
                            "    <tr>\n",
                            "      <th>5</th>\n",
                            "      <td>0.697430</td>\n",
                            "      <td>-2.012066e+01</td>\n",
                            "      <td>0.080571</td>\n",
                            "      <td>0.000344</td>\n",
                            "    </tr>\n",
                            "  </tbody>\n",
                            "</table>\n",
                            "</div>"
                        ],
                        "text/plain": [
                            "   train_score    test_score  fit_time  score_time\n",
                            "0     0.693632 -6.314807e+18  0.073595    0.000639\n",
                            "1     0.708397 -9.959198e+19  0.130337    0.000712\n",
                            "2     0.688486 -5.523258e+18  0.138305    0.000667\n",
                            "3     0.746332 -8.100743e+19  0.125690    0.000623\n",
                            "4     0.693517 -9.473059e+18  0.067960    0.000566\n",
                            "5     0.697430 -2.012066e+01  0.080571    0.000344"
                        ]
                    },
                    "execution_count": 54,
                    "metadata": {},
                    "output_type": "execute_result"
                }
            ],
            "source": [
                "cv_results = cross_validate(model, X_train_encoded, y_train, 5, 42)\n",
                "pd.DataFrame(cv_results)"
            ]
        },
        {
            "cell_type": "code",
            "execution_count": 56,
            "metadata": {},
            "outputs": [
                {
                    "data": {
                        "text/plain": [
                            "array([ 868336.4691848 ,  966667.47620837, -106385.49803855, ...,\n",
                            "        737210.45513767,  597910.44577291, -507973.54486233])"
                        ]
                    },
                    "execution_count": 56,
                    "metadata": {},
                    "output_type": "execute_result"
                }
            ],
            "source": [
                "model.predict(X_test_encoded)"
            ]
        },
        {
            "cell_type": "code",
            "execution_count": 57,
            "metadata": {},
            "outputs": [
                {
                    "data": {
                        "text/plain": [
                            "-1.0529366934775053e+28"
                        ]
                    },
                    "execution_count": 57,
                    "metadata": {},
                    "output_type": "execute_result"
                }
            ],
            "source": [
                "model.score(X_test_encoded, y_test)"
            ]
        }
    ],
    "metadata": {
        "kernelspec": {
            "display_name": "Python 3",
            "language": "python",
            "name": "python3"
        },
        "language_info": {
            "codemirror_mode": {
                "name": "ipython",
                "version": 3
            },
            "file_extension": ".py",
            "mimetype": "text/x-python",
            "name": "python",
            "nbconvert_exporter": "python",
            "pygments_lexer": "ipython3",
            "version": "3.9.18"
        }
    },
    "nbformat": 4,
    "nbformat_minor": 4
}
