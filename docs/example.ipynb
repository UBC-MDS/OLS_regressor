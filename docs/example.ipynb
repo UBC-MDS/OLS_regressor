{
    "cells": [
        {
            "cell_type": "markdown",
            "metadata": {},
            "source": [
                "# Example usage\n",
                "\n",
                "To use `ols_regressor` in a project:"
            ]
        },
        {
            "cell_type": "code",
            "execution_count": 1,
            "metadata": {},
            "outputs": [],
            "source": [
                "from ols_regressor.regressor import LinearRegressor\n",
                "from ols_regressor.cross_validate import cross_validate\n",
                "import numpy as np\n",
                "import pandas as pd\n",
                "from sklearn.preprocessing import OneHotEncoder, StandardScaler, OrdinalEncoder\n",
                "from sklearn.linear_model import LinearRegression\n",
                "from sklearn.compose import make_column_transformer\n",
                "from sklearn.model_selection import train_test_split"
            ]
        },
        {
            "cell_type": "code",
            "execution_count": 2,
            "metadata": {},
            "outputs": [
                {
                    "data": {
                        "text/html": [
                            "<div>\n",
                            "<style scoped>\n",
                            "    .dataframe tbody tr th:only-of-type {\n",
                            "        vertical-align: middle;\n",
                            "    }\n",
                            "\n",
                            "    .dataframe tbody tr th {\n",
                            "        vertical-align: top;\n",
                            "    }\n",
                            "\n",
                            "    .dataframe thead th {\n",
                            "        text-align: right;\n",
                            "    }\n",
                            "</style>\n",
                            "<table border=\"1\" class=\"dataframe\">\n",
                            "  <thead>\n",
                            "    <tr style=\"text-align: right;\">\n",
                            "      <th></th>\n",
                            "      <th>Brand</th>\n",
                            "      <th>UsedOrNew</th>\n",
                            "      <th>Transmission</th>\n",
                            "      <th>DriveType</th>\n",
                            "      <th>FuelType</th>\n",
                            "      <th>BodyType</th>\n",
                            "      <th>Doors</th>\n",
                            "      <th>Seats</th>\n",
                            "      <th>Engine_cylinder_number</th>\n",
                            "      <th>Engine_total_volume</th>\n",
                            "      <th>ExteriorColour</th>\n",
                            "      <th>Year</th>\n",
                            "      <th>Kilometres</th>\n",
                            "      <th>Price</th>\n",
                            "      <th>fuel_comsumption_liter</th>\n",
                            "      <th>fuel_comsumption_km</th>\n",
                            "    </tr>\n",
                            "  </thead>\n",
                            "  <tbody>\n",
                            "    <tr>\n",
                            "      <th>0</th>\n",
                            "      <td>Ssangyong</td>\n",
                            "      <td>DEMO</td>\n",
                            "      <td>Automatic</td>\n",
                            "      <td>AWD</td>\n",
                            "      <td>Diesel</td>\n",
                            "      <td>SUV</td>\n",
                            "      <td>4</td>\n",
                            "      <td>7</td>\n",
                            "      <td>4</td>\n",
                            "      <td>2.2</td>\n",
                            "      <td>White</td>\n",
                            "      <td>2022</td>\n",
                            "      <td>5595.0</td>\n",
                            "      <td>51990.0</td>\n",
                            "      <td>8.7</td>\n",
                            "      <td>100.0</td>\n",
                            "    </tr>\n",
                            "    <tr>\n",
                            "      <th>1</th>\n",
                            "      <td>MG</td>\n",
                            "      <td>USED</td>\n",
                            "      <td>Automatic</td>\n",
                            "      <td>Front</td>\n",
                            "      <td>Premium</td>\n",
                            "      <td>Hatchback</td>\n",
                            "      <td>5</td>\n",
                            "      <td>5</td>\n",
                            "      <td>4</td>\n",
                            "      <td>1.5</td>\n",
                            "      <td>Black</td>\n",
                            "      <td>2022</td>\n",
                            "      <td>16.0</td>\n",
                            "      <td>19990.0</td>\n",
                            "      <td>6.7</td>\n",
                            "      <td>100.0</td>\n",
                            "    </tr>\n",
                            "    <tr>\n",
                            "      <th>2</th>\n",
                            "      <td>BMW</td>\n",
                            "      <td>USED</td>\n",
                            "      <td>Automatic</td>\n",
                            "      <td>Rear</td>\n",
                            "      <td>Premium</td>\n",
                            "      <td>Coupe</td>\n",
                            "      <td>2</td>\n",
                            "      <td>4</td>\n",
                            "      <td>4</td>\n",
                            "      <td>2.0</td>\n",
                            "      <td>Grey</td>\n",
                            "      <td>2022</td>\n",
                            "      <td>8472.0</td>\n",
                            "      <td>108988.0</td>\n",
                            "      <td>6.6</td>\n",
                            "      <td>100.0</td>\n",
                            "    </tr>\n",
                            "    <tr>\n",
                            "      <th>3</th>\n",
                            "      <td>Mercedes-Benz</td>\n",
                            "      <td>USED</td>\n",
                            "      <td>Automatic</td>\n",
                            "      <td>Rear</td>\n",
                            "      <td>Premium</td>\n",
                            "      <td>Coupe</td>\n",
                            "      <td>2</td>\n",
                            "      <td>4</td>\n",
                            "      <td>8</td>\n",
                            "      <td>5.5</td>\n",
                            "      <td>White</td>\n",
                            "      <td>2011</td>\n",
                            "      <td>136517.0</td>\n",
                            "      <td>32990.0</td>\n",
                            "      <td>11.0</td>\n",
                            "      <td>100.0</td>\n",
                            "    </tr>\n",
                            "    <tr>\n",
                            "      <th>4</th>\n",
                            "      <td>Renault</td>\n",
                            "      <td>USED</td>\n",
                            "      <td>Automatic</td>\n",
                            "      <td>Front</td>\n",
                            "      <td>Unleaded</td>\n",
                            "      <td>SUV</td>\n",
                            "      <td>4</td>\n",
                            "      <td>5</td>\n",
                            "      <td>4</td>\n",
                            "      <td>1.3</td>\n",
                            "      <td>Grey</td>\n",
                            "      <td>2022</td>\n",
                            "      <td>1035.0</td>\n",
                            "      <td>34990.0</td>\n",
                            "      <td>6.0</td>\n",
                            "      <td>100.0</td>\n",
                            "    </tr>\n",
                            "  </tbody>\n",
                            "</table>\n",
                            "</div>"
                        ],
                        "text/plain": [
                            "           Brand UsedOrNew Transmission DriveType  FuelType   BodyType  Doors  \\\n",
                            "0      Ssangyong      DEMO    Automatic       AWD    Diesel        SUV      4   \n",
                            "1             MG      USED    Automatic     Front   Premium  Hatchback      5   \n",
                            "2            BMW      USED    Automatic      Rear   Premium      Coupe      2   \n",
                            "3  Mercedes-Benz      USED    Automatic      Rear   Premium      Coupe      2   \n",
                            "4        Renault      USED    Automatic     Front  Unleaded        SUV      4   \n",
                            "\n",
                            "   Seats  Engine_cylinder_number  Engine_total_volume ExteriorColour  Year  \\\n",
                            "0      7                       4                  2.2         White   2022   \n",
                            "1      5                       4                  1.5         Black   2022   \n",
                            "2      4                       4                  2.0          Grey   2022   \n",
                            "3      4                       8                  5.5         White   2011   \n",
                            "4      5                       4                  1.3          Grey   2022   \n",
                            "\n",
                            "   Kilometres     Price  fuel_comsumption_liter  fuel_comsumption_km  \n",
                            "0      5595.0   51990.0                     8.7                100.0  \n",
                            "1        16.0   19990.0                     6.7                100.0  \n",
                            "2      8472.0  108988.0                     6.6                100.0  \n",
                            "3    136517.0   32990.0                    11.0                100.0  \n",
                            "4      1035.0   34990.0                     6.0                100.0  "
                        ]
                    },
                    "execution_count": 2,
                    "metadata": {},
                    "output_type": "execute_result"
                }
            ],
            "source": [
                "data = pd.read_csv(\"../data/preprocessed_data.csv\")\n",
                "data.head()"
            ]
        },
        {
            "cell_type": "code",
            "execution_count": 3,
            "metadata": {},
            "outputs": [
                {
                    "data": {
                        "text/plain": [
                            "fuel_comsumption_km\n",
                            "100.0    16734\n",
                            "Name: count, dtype: int64"
                        ]
                    },
                    "execution_count": 3,
                    "metadata": {},
                    "output_type": "execute_result"
                }
            ],
            "source": [
                "data[\"fuel_comsumption_km\"].value_counts()"
            ]
        },
        {
            "cell_type": "code",
            "execution_count": 4,
            "metadata": {},
            "outputs": [
                {
                    "data": {
                        "text/plain": [
                            "Index(['Brand', 'UsedOrNew', 'Transmission', 'DriveType', 'FuelType',\n",
                            "       'BodyType', 'Doors', 'Seats', 'Engine_cylinder_number',\n",
                            "       'Engine_total_volume', 'ExteriorColour', 'Year', 'Kilometres', 'Price',\n",
                            "       'fuel_comsumption_liter', 'fuel_comsumption_km'],\n",
                            "      dtype='object')"
                        ]
                    },
                    "execution_count": 4,
                    "metadata": {},
                    "output_type": "execute_result"
                }
            ],
            "source": [
                "data.columns"
            ]
        },
        {
            "cell_type": "code",
            "execution_count": 5,
            "metadata": {},
            "outputs": [],
            "source": [
                "X, y = data.drop(columns=[\"Price\"]), data[\"Price\"]\n",
                "X_train, X_test, y_train, y_test = train_test_split(X, y, test_size=0.3, random_state=42)"
            ]
        },
        {
            "cell_type": "code",
            "execution_count": 6,
            "metadata": {},
            "outputs": [
                {
                    "data": {
                        "text/plain": [
                            "array([[ 0.        ,  0.        ,  0.        , ...,  1.49214463,\n",
                            "         1.41067538,  1.51222474],\n",
                            "       [ 0.        ,  0.        ,  0.        , ..., -0.44649103,\n",
                            "        -0.66911493, -0.71054051],\n",
                            "       [ 0.        ,  0.        ,  0.        , ..., -0.51863016,\n",
                            "        -1.01574664, -1.7538793 ],\n",
                            "       ...,\n",
                            "       [ 0.        ,  0.        ,  0.        , ..., -0.00508252,\n",
                            "        -0.43802711, -0.61981539],\n",
                            "       [ 0.        ,  0.        ,  0.        , ...,  0.65793342,\n",
                            "        -0.43802711, -0.84662817],\n",
                            "       [ 0.        ,  0.        ,  0.        , ..., -0.2266645 ,\n",
                            "        -1.24683446,  0.37816084]])"
                        ]
                    },
                    "execution_count": 6,
                    "metadata": {},
                    "output_type": "execute_result"
                }
            ],
            "source": [
                "categorical_features = ['Brand', 'UsedOrNew', 'Transmission', 'DriveType', 'FuelType',\n",
                "       'BodyType', 'ExteriorColour']\n",
                "ordinal_features = ['Doors', 'Seats', 'Engine_cylinder_number']\n",
                "numeric_features = ['Year', 'Kilometres', 'Engine_total_volume', 'fuel_comsumption_liter']\n",
                "drop_features = ['fuel_comsumption_liter']\n",
                "ct = make_column_transformer(\n",
                "    (OneHotEncoder(handle_unknown=\"ignore\", sparse_output=False), categorical_features),\n",
                "    (OrdinalEncoder(handle_unknown=\"use_encoded_value\", unknown_value=999), ordinal_features),\n",
                "    (StandardScaler(), numeric_features),\n",
                "    (\"drop\", drop_features)\n",
                ")\n",
                "X_train_encoded = ct.fit_transform(X_train)\n",
                "X_train_encoded"
            ]
        },
        {
            "cell_type": "code",
            "execution_count": 7,
            "metadata": {},
            "outputs": [
                {
                    "data": {
                        "text/plain": [
                            "array([[ 0.        ,  0.        ,  0.        , ...,  1.49214463,\n",
                            "         1.41067538,  1.51222474],\n",
                            "       [ 0.        ,  0.        ,  0.        , ..., -0.44649103,\n",
                            "        -0.66911493, -0.71054051],\n",
                            "       [ 0.        ,  0.        ,  0.        , ..., -0.51863016,\n",
                            "        -1.01574664, -1.7538793 ],\n",
                            "       ...,\n",
                            "       [ 0.        ,  0.        ,  0.        , ..., -0.00508252,\n",
                            "        -0.43802711, -0.61981539],\n",
                            "       [ 0.        ,  0.        ,  0.        , ...,  0.65793342,\n",
                            "        -0.43802711, -0.84662817],\n",
                            "       [ 0.        ,  0.        ,  0.        , ..., -0.2266645 ,\n",
                            "        -1.24683446,  0.37816084]])"
                        ]
                    },
                    "execution_count": 7,
                    "metadata": {},
                    "output_type": "execute_result"
                }
            ],
            "source": [
                "X_test_encoded = ct.transform(X_test)\n",
                "X_train_encoded"
            ]
        },
        {
            "cell_type": "markdown",
            "metadata": {},
            "source": [
                "### Fitting the model on the training data\n",
                "The `fit` function in the `ols_regressor` package will calculate the coefficients for the linear regression model using the Ordinary Least Squares (OLS) method. It converts the input features and target values into NumPy arrays. The function then augments the feature matrix with an intercept term and computes the model coefficients using the OLS formula. The resulting coefficients are stored in the `self.coef` attribute, representing the weights that minimize the sum of squared differences between the predicted and actual target values.\n",
                "\n",
                "The use of this function is demonstrated below.\n",
                "\n",
                "\n"
            ]
        },
        {
            "cell_type": "code",
            "execution_count": 8,
            "metadata": {},
            "outputs": [
                {
                    "data": {
                        "text/plain": [
                            "array([ 3.74898465e+04, -1.26339999e+02,  7.11831732e+00,  4.04630506e+03,\n",
                            "        1.26282038e+03,  1.64789618e+03, -3.97321281e+02,  6.19317822e+03,\n",
                            "        1.03251630e+02, -5.59094871e+02,  2.09777756e+03, -4.66435234e+02,\n",
                            "       -3.67181323e+02,  2.03920137e+02,  1.58213603e+02, -6.28933543e+02,\n",
                            "        4.55525187e+02, -3.81343490e+02,  2.94984577e+02,  1.16212028e+04,\n",
                            "       -4.22283424e+02, -6.65019443e+02, -3.79681297e+02, -2.14315054e+03,\n",
                            "       -3.41974560e+02,  5.47612239e+02, -6.27018411e+02,  1.24860503e+03,\n",
                            "       -7.50508269e+02,  1.09905040e+03, -2.05695840e+03,  1.90157237e+01,\n",
                            "        4.99444840e+02, -1.11071173e+03,  2.13852138e+02, -2.21332856e+02,\n",
                            "        3.26349352e+03,  2.77743492e+02,  3.97406991e+03,  6.41584576e+02,\n",
                            "       -1.07343660e+03, -1.28275515e+03, -1.49486106e+03,  3.36430408e+03,\n",
                            "        3.14400603e+03,  1.03653225e+03,  8.37046169e+02, -2.28471859e+03,\n",
                            "       -5.11475395e+02,  2.52498439e+03, -1.29102625e+03,  9.11152765e+03,\n",
                            "        3.25951560e+03, -1.29230875e+02, -1.26140880e+03, -1.10111476e+03,\n",
                            "       -1.50954667e+02,  1.03822368e+03, -2.53371603e+02, -2.12116655e+02,\n",
                            "        4.79672827e+03, -1.70038384e+02,  1.15552721e+03, -6.81063625e+02,\n",
                            "        2.36783063e+03, -7.14421466e+01, -1.10455552e+02, -3.57217938e+02,\n",
                            "       -1.23532634e+03, -1.33465540e+03, -1.21061118e+03, -1.86937932e+02,\n",
                            "        2.05020237e+02,  1.23572488e+03, -5.87612822e+02,  2.10995194e+02,\n",
                            "        1.49027587e+03,  1.04567286e+03, -1.74644084e+03, -8.24640346e+02,\n",
                            "        8.24640346e+02,  1.82857280e+03,  1.77166624e+03, -2.45584048e+03,\n",
                            "        1.53746128e+03, -1.70472874e+03,  5.40049701e+02,  2.91613982e+03,\n",
                            "        1.55308059e+03, -2.84881987e+02,  9.03314404e+02, -4.28092724e+02,\n",
                            "       -2.05362361e+02, -1.27729189e+03,  1.64724071e+03,  2.11216291e+02,\n",
                            "        2.81351741e+03, -1.44045985e+03,  2.41419245e+02,  3.06563766e+02,\n",
                            "       -1.04084680e+03, -1.04108709e+02,  7.29126350e+02,  3.26232776e+02,\n",
                            "        1.46457555e+01, -1.17750878e+02,  1.48743852e+02,  2.09434961e+01,\n",
                            "       -1.93034505e+02,  1.74357294e+01, -1.92304962e+02,  1.25813842e+02,\n",
                            "        3.55997963e+02,  2.74574174e+02,  1.35632830e+02,  2.16453795e+03,\n",
                            "       -1.35544735e+02,  5.33678749e+01, -4.35394681e+01, -3.29295975e+02,\n",
                            "       -6.98715314e+02,  1.51376486e+02, -2.95323560e+02, -4.95385837e+01,\n",
                            "        1.13355646e+02,  1.62275450e+03,  5.59823182e+03,  6.67940300e+03,\n",
                            "       -9.58135174e+03,  3.08035244e+03,  6.57244662e+01])"
                        ]
                    },
                    "execution_count": 8,
                    "metadata": {},
                    "output_type": "execute_result"
                }
            ],
            "source": [
                "model = LinearRegressor()\n",
                "model.fit(X_train_encoded, y_train)"
            ]
        },
        {
            "cell_type": "code",
            "execution_count": 9,
            "metadata": {},
            "outputs": [
                {
                    "data": {
                        "text/plain": [
                            "array([ 3.74898465e+04, -1.26339999e+02,  7.11831732e+00,  4.04630506e+03,\n",
                            "        1.26282038e+03,  1.64789618e+03, -3.97321281e+02,  6.19317822e+03,\n",
                            "        1.03251630e+02, -5.59094871e+02,  2.09777756e+03, -4.66435234e+02,\n",
                            "       -3.67181323e+02,  2.03920137e+02,  1.58213603e+02, -6.28933543e+02,\n",
                            "        4.55525187e+02, -3.81343490e+02,  2.94984577e+02,  1.16212028e+04,\n",
                            "       -4.22283424e+02, -6.65019443e+02, -3.79681297e+02, -2.14315054e+03,\n",
                            "       -3.41974560e+02,  5.47612239e+02, -6.27018411e+02,  1.24860503e+03,\n",
                            "       -7.50508269e+02,  1.09905040e+03, -2.05695840e+03,  1.90157237e+01,\n",
                            "        4.99444840e+02, -1.11071173e+03,  2.13852138e+02, -2.21332856e+02,\n",
                            "        3.26349352e+03,  2.77743492e+02,  3.97406991e+03,  6.41584576e+02,\n",
                            "       -1.07343660e+03, -1.28275515e+03, -1.49486106e+03,  3.36430408e+03,\n",
                            "        3.14400603e+03,  1.03653225e+03,  8.37046169e+02, -2.28471859e+03,\n",
                            "       -5.11475395e+02,  2.52498439e+03, -1.29102625e+03,  9.11152765e+03,\n",
                            "        3.25951560e+03, -1.29230875e+02, -1.26140880e+03, -1.10111476e+03,\n",
                            "       -1.50954667e+02,  1.03822368e+03, -2.53371603e+02, -2.12116655e+02,\n",
                            "        4.79672827e+03, -1.70038384e+02,  1.15552721e+03, -6.81063625e+02,\n",
                            "        2.36783063e+03, -7.14421466e+01, -1.10455552e+02, -3.57217938e+02,\n",
                            "       -1.23532634e+03, -1.33465540e+03, -1.21061118e+03, -1.86937932e+02,\n",
                            "        2.05020237e+02,  1.23572488e+03, -5.87612822e+02,  2.10995194e+02,\n",
                            "        1.49027587e+03,  1.04567286e+03, -1.74644084e+03, -8.24640346e+02,\n",
                            "        8.24640346e+02,  1.82857280e+03,  1.77166624e+03, -2.45584048e+03,\n",
                            "        1.53746128e+03, -1.70472874e+03,  5.40049701e+02,  2.91613982e+03,\n",
                            "        1.55308059e+03, -2.84881987e+02,  9.03314404e+02, -4.28092724e+02,\n",
                            "       -2.05362361e+02, -1.27729189e+03,  1.64724071e+03,  2.11216291e+02,\n",
                            "        2.81351741e+03, -1.44045985e+03,  2.41419245e+02,  3.06563766e+02,\n",
                            "       -1.04084680e+03, -1.04108709e+02,  7.29126350e+02,  3.26232776e+02,\n",
                            "        1.46457555e+01, -1.17750878e+02,  1.48743852e+02,  2.09434961e+01,\n",
                            "       -1.93034505e+02,  1.74357294e+01, -1.92304962e+02,  1.25813842e+02,\n",
                            "        3.55997963e+02,  2.74574174e+02,  1.35632830e+02,  2.16453795e+03,\n",
                            "       -1.35544735e+02,  5.33678749e+01, -4.35394681e+01, -3.29295975e+02,\n",
                            "       -6.98715314e+02,  1.51376486e+02, -2.95323560e+02, -4.95385837e+01,\n",
                            "        1.13355646e+02,  1.62275450e+03,  5.59823182e+03,  6.67940300e+03,\n",
                            "       -9.58135174e+03,  3.08035244e+03,  6.57244662e+01])"
                        ]
                    },
                    "execution_count": 9,
                    "metadata": {},
                    "output_type": "execute_result"
                }
            ],
            "source": [
                "model.coef"
            ]
        },
        {
            "cell_type": "code",
            "execution_count": 10,
            "metadata": {},
            "outputs": [],
            "source": [
                "# y_train = y_train.to_numpy()"
            ]
        },
        {
            "cell_type": "markdown",
            "metadata": {},
            "source": [
                "### Cross Validation\n",
                "Sometimes, we may need to get both train score and validation score for hyperparameter tuning. Therefore, we need the cross validation to get the validation performance while avoiding overfitting. Our implementation of cross validation is somewhat similar to the implementation of `scikit-learn`. The `cross_validate` function accept five arguments: \n",
                "\n",
                "- `model`: The model to perform cross validation\n",
                "- `X`: The predictors of training data. It should be a 2D numpy array\n",
                "- `y`: The response of training data. It should be a 1D numpy array\n",
                "- `cv`: The number of folds used for cross validation\n",
                "- `random_state`: The random state of the random shuffling in the cross validation\n",
                "\n",
                "Notice that our `cross_validate` does not require a `return_train_score` argument. The train scores are automatically returnd in the cross validation results."
            ]
        },
        {
            "cell_type": "code",
            "execution_count": 11,
            "metadata": {},
            "outputs": [
                {
                    "name": "stderr",
                    "output_type": "stream",
                    "text": [
                        "D:\\1.UBC\\Block4\\524\\Team18\\src\\ols_regressor\\regressor.py:36: RuntimeWarning: invalid value encountered in divide\n",
                        "  X_normalized = (X_np - X_np.mean(axis=0)) / X_np.std(axis=0)\n"
                    ]
                },
                {
                    "data": {
                        "text/html": [
                            "<div>\n",
                            "<style scoped>\n",
                            "    .dataframe tbody tr th:only-of-type {\n",
                            "        vertical-align: middle;\n",
                            "    }\n",
                            "\n",
                            "    .dataframe tbody tr th {\n",
                            "        vertical-align: top;\n",
                            "    }\n",
                            "\n",
                            "    .dataframe thead th {\n",
                            "        text-align: right;\n",
                            "    }\n",
                            "</style>\n",
                            "<table border=\"1\" class=\"dataframe\">\n",
                            "  <thead>\n",
                            "    <tr style=\"text-align: right;\">\n",
                            "      <th></th>\n",
                            "      <th>train_score</th>\n",
                            "      <th>test_score</th>\n",
                            "      <th>fit_time</th>\n",
                            "      <th>score_time</th>\n",
                            "    </tr>\n",
                            "  </thead>\n",
                            "  <tbody>\n",
                            "    <tr>\n",
                            "      <th>0</th>\n",
                            "      <td>NaN</td>\n",
                            "      <td>NaN</td>\n",
                            "      <td>0.063000</td>\n",
                            "      <td>0.001996</td>\n",
                            "    </tr>\n",
                            "    <tr>\n",
                            "      <th>1</th>\n",
                            "      <td>NaN</td>\n",
                            "      <td>NaN</td>\n",
                            "      <td>0.043000</td>\n",
                            "      <td>0.003003</td>\n",
                            "    </tr>\n",
                            "    <tr>\n",
                            "      <th>2</th>\n",
                            "      <td>NaN</td>\n",
                            "      <td>NaN</td>\n",
                            "      <td>0.039002</td>\n",
                            "      <td>0.002001</td>\n",
                            "    </tr>\n",
                            "    <tr>\n",
                            "      <th>3</th>\n",
                            "      <td>NaN</td>\n",
                            "      <td>NaN</td>\n",
                            "      <td>0.034009</td>\n",
                            "      <td>0.002964</td>\n",
                            "    </tr>\n",
                            "    <tr>\n",
                            "      <th>4</th>\n",
                            "      <td>0.182976</td>\n",
                            "      <td>0.201663</td>\n",
                            "      <td>0.034010</td>\n",
                            "      <td>0.003987</td>\n",
                            "    </tr>\n",
                            "    <tr>\n",
                            "      <th>5</th>\n",
                            "      <td>0.186380</td>\n",
                            "      <td>-123.351296</td>\n",
                            "      <td>0.042041</td>\n",
                            "      <td>0.000000</td>\n",
                            "    </tr>\n",
                            "  </tbody>\n",
                            "</table>\n",
                            "</div>"
                        ],
                        "text/plain": [
                            "   train_score  test_score  fit_time  score_time\n",
                            "0          NaN         NaN  0.063000    0.001996\n",
                            "1          NaN         NaN  0.043000    0.003003\n",
                            "2          NaN         NaN  0.039002    0.002001\n",
                            "3          NaN         NaN  0.034009    0.002964\n",
                            "4     0.182976    0.201663  0.034010    0.003987\n",
                            "5     0.186380 -123.351296  0.042041    0.000000"
                        ]
                    },
                    "execution_count": 11,
                    "metadata": {},
                    "output_type": "execute_result"
                }
            ],
            "source": [
                "cv_results = cross_validate(model, X_train_encoded, y_train, 5, 42)\n",
                "pd.DataFrame(cv_results)"
            ]
        },
        {
            "cell_type": "markdown",
            "metadata": {},
            "source": [
                "### Predicting with the Fitted Model\n",
                "Now that our regression model has been fitted, it is time to utilize it for making predictions on unseen data. The `predict` function within the `ols_regressor` package has been designed for this purpose. This function expects an array-like matrix X of shape (n_samples, n_features) as input, so that we can compute the predicted target values with the coefficients stored in the `self.coef` attribute. The `predict` function will return an array contains the model's predictions based on the provided input features.\n",
                "\n",
                "The use of this function is demonstrated below."
            ]
        },
        {
            "cell_type": "code",
            "execution_count": 12,
            "metadata": {},
            "outputs": [
                {
                    "data": {
                        "text/plain": [
                            "array([71242.39545227, 65086.71872127, 75088.73651052, ...,\n",
                            "       65159.56570948, 53953.6612666 , 48427.00252345])"
                        ]
                    },
                    "execution_count": 12,
                    "metadata": {},
                    "output_type": "execute_result"
                }
            ],
            "source": [
                "model.predict(X_test_encoded)"
            ]
        },
        {
            "cell_type": "markdown",
            "metadata": {},
            "source": [
                "### Scoring the Fitted Model\n",
                "\n",
                "Here we use the `score` function within the `ols_regressor` package. The function takes in X(n_samples, n_features) and y_pred(n_samples, ) as input and calculates the coefficient of determination $R^2$ for the prediction. Specifically, the function will calculate by the followin steps to get $R^2$:\n",
                "$$\n",
                "SSE = \\sum_{i=1}^{n} (y_i - \\hat{y}_i)^2\n",
                "$$\n",
                "$$\n",
                "SST = \\sum_{i=1}^{n} (y_i - \\bar{y})^2\n",
                "$$\n",
                "$$\n",
                "R^2 = 1 - \\frac{SSE}{SST}\n",
                "$$"
            ]
        },
        {
            "cell_type": "code",
            "execution_count": 13,
            "metadata": {},
            "outputs": [
                {
                    "data": {
                        "text/plain": [
                            "0.18939667040126118"
                        ]
                    },
                    "execution_count": 13,
                    "metadata": {},
                    "output_type": "execute_result"
                }
            ],
            "source": [
                "model.score(X_test_encoded, y_test)"
            ]
        }
    ],
    "metadata": {
        "kernelspec": {
            "display_name": "Python 3",
            "language": "python",
            "name": "python3"
        },
        "language_info": {
            "codemirror_mode": {
                "name": "ipython",
                "version": 3
            },
            "file_extension": ".py",
            "mimetype": "text/x-python",
            "name": "python",
            "nbconvert_exporter": "python",
            "pygments_lexer": "ipython3",
            "version": "3.12.0"
        }
    },
    "nbformat": 4,
    "nbformat_minor": 4
}
