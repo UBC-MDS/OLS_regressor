{
    "cells": [
        {
            "cell_type": "markdown",
            "metadata": {},
            "source": [
                "# Example usage\n",
                "\n",
                "To use `ols_regressor` in a project:"
            ]
        },
        {
            "cell_type": "code",
            "execution_count": 1,
            "metadata": {},
            "outputs": [],
            "source": [
                "from ols_regressor.regressor import LinearRegressor\n",
                "from ols_regressor.cross_validate import cross_validate\n",
                "import numpy as np\n",
                "import pandas as pd\n",
                "from sklearn.preprocessing import OneHotEncoder, StandardScaler, OrdinalEncoder\n",
                "from sklearn.linear_model import LinearRegression\n",
                "from sklearn.compose import make_column_transformer\n",
                "from sklearn.model_selection import train_test_split"
            ]
        },
        {
            "cell_type": "code",
            "execution_count": 2,
            "metadata": {},
            "outputs": [
                {
                    "data": {
                        "text/html": [
                            "<div>\n",
                            "<style scoped>\n",
                            "    .dataframe tbody tr th:only-of-type {\n",
                            "        vertical-align: middle;\n",
                            "    }\n",
                            "\n",
                            "    .dataframe tbody tr th {\n",
                            "        vertical-align: top;\n",
                            "    }\n",
                            "\n",
                            "    .dataframe thead th {\n",
                            "        text-align: right;\n",
                            "    }\n",
                            "</style>\n",
                            "<table border=\"1\" class=\"dataframe\">\n",
                            "  <thead>\n",
                            "    <tr style=\"text-align: right;\">\n",
                            "      <th></th>\n",
                            "      <th>Brand</th>\n",
                            "      <th>UsedOrNew</th>\n",
                            "      <th>Transmission</th>\n",
                            "      <th>DriveType</th>\n",
                            "      <th>FuelType</th>\n",
                            "      <th>BodyType</th>\n",
                            "      <th>ExteriorColour</th>\n",
                            "      <th>Year</th>\n",
                            "      <th>Kilometres</th>\n",
                            "      <th>Doors</th>\n",
                            "      <th>Seats</th>\n",
                            "      <th>Price</th>\n",
                            "      <th>Engine_cylinder_number</th>\n",
                            "      <th>Engine_total_volume</th>\n",
                            "      <th>fuel_comsumption_liter</th>\n",
                            "      <th>fuel_comsumption_km</th>\n",
                            "    </tr>\n",
                            "  </thead>\n",
                            "  <tbody>\n",
                            "    <tr>\n",
                            "      <th>0</th>\n",
                            "      <td>Ssangyong</td>\n",
                            "      <td>DEMO</td>\n",
                            "      <td>Automatic</td>\n",
                            "      <td>AWD</td>\n",
                            "      <td>Diesel</td>\n",
                            "      <td>SUV</td>\n",
                            "      <td>White</td>\n",
                            "      <td>2022</td>\n",
                            "      <td>5595.0</td>\n",
                            "      <td>4.0</td>\n",
                            "      <td>7.0</td>\n",
                            "      <td>51990.0</td>\n",
                            "      <td>4.0</td>\n",
                            "      <td>2.2</td>\n",
                            "      <td>8.7</td>\n",
                            "      <td>100.0</td>\n",
                            "    </tr>\n",
                            "    <tr>\n",
                            "      <th>1</th>\n",
                            "      <td>MG</td>\n",
                            "      <td>USED</td>\n",
                            "      <td>Automatic</td>\n",
                            "      <td>Front</td>\n",
                            "      <td>Premium</td>\n",
                            "      <td>Hatchback</td>\n",
                            "      <td>Black</td>\n",
                            "      <td>2022</td>\n",
                            "      <td>16.0</td>\n",
                            "      <td>5.0</td>\n",
                            "      <td>5.0</td>\n",
                            "      <td>19990.0</td>\n",
                            "      <td>4.0</td>\n",
                            "      <td>1.5</td>\n",
                            "      <td>6.7</td>\n",
                            "      <td>100.0</td>\n",
                            "    </tr>\n",
                            "    <tr>\n",
                            "      <th>2</th>\n",
                            "      <td>BMW</td>\n",
                            "      <td>USED</td>\n",
                            "      <td>Automatic</td>\n",
                            "      <td>Rear</td>\n",
                            "      <td>Premium</td>\n",
                            "      <td>Coupe</td>\n",
                            "      <td>Grey</td>\n",
                            "      <td>2022</td>\n",
                            "      <td>8472.0</td>\n",
                            "      <td>2.0</td>\n",
                            "      <td>4.0</td>\n",
                            "      <td>108988.0</td>\n",
                            "      <td>4.0</td>\n",
                            "      <td>2.0</td>\n",
                            "      <td>6.6</td>\n",
                            "      <td>100.0</td>\n",
                            "    </tr>\n",
                            "    <tr>\n",
                            "      <th>3</th>\n",
                            "      <td>Mercedes-Benz</td>\n",
                            "      <td>USED</td>\n",
                            "      <td>Automatic</td>\n",
                            "      <td>Rear</td>\n",
                            "      <td>Premium</td>\n",
                            "      <td>Coupe</td>\n",
                            "      <td>White</td>\n",
                            "      <td>2011</td>\n",
                            "      <td>136517.0</td>\n",
                            "      <td>2.0</td>\n",
                            "      <td>4.0</td>\n",
                            "      <td>32990.0</td>\n",
                            "      <td>8.0</td>\n",
                            "      <td>5.5</td>\n",
                            "      <td>11.0</td>\n",
                            "      <td>100.0</td>\n",
                            "    </tr>\n",
                            "    <tr>\n",
                            "      <th>4</th>\n",
                            "      <td>Renault</td>\n",
                            "      <td>USED</td>\n",
                            "      <td>Automatic</td>\n",
                            "      <td>Front</td>\n",
                            "      <td>Unleaded</td>\n",
                            "      <td>SUV</td>\n",
                            "      <td>Grey</td>\n",
                            "      <td>2022</td>\n",
                            "      <td>1035.0</td>\n",
                            "      <td>4.0</td>\n",
                            "      <td>5.0</td>\n",
                            "      <td>34990.0</td>\n",
                            "      <td>4.0</td>\n",
                            "      <td>1.3</td>\n",
                            "      <td>6.0</td>\n",
                            "      <td>100.0</td>\n",
                            "    </tr>\n",
                            "  </tbody>\n",
                            "</table>\n",
                            "</div>"
                        ],
                        "text/plain": [
                            "           Brand UsedOrNew Transmission DriveType  FuelType   BodyType  \\\n",
                            "0      Ssangyong      DEMO    Automatic       AWD    Diesel        SUV   \n",
                            "1             MG      USED    Automatic     Front   Premium  Hatchback   \n",
                            "2            BMW      USED    Automatic      Rear   Premium      Coupe   \n",
                            "3  Mercedes-Benz      USED    Automatic      Rear   Premium      Coupe   \n",
                            "4        Renault      USED    Automatic     Front  Unleaded        SUV   \n",
                            "\n",
                            "  ExteriorColour  Year  Kilometres  Doors  Seats     Price  \\\n",
                            "0         White   2022      5595.0    4.0    7.0   51990.0   \n",
                            "1         Black   2022        16.0    5.0    5.0   19990.0   \n",
                            "2          Grey   2022      8472.0    2.0    4.0  108988.0   \n",
                            "3         White   2011    136517.0    2.0    4.0   32990.0   \n",
                            "4          Grey   2022      1035.0    4.0    5.0   34990.0   \n",
                            "\n",
                            "   Engine_cylinder_number  Engine_total_volume  fuel_comsumption_liter  \\\n",
                            "0                     4.0                  2.2                     8.7   \n",
                            "1                     4.0                  1.5                     6.7   \n",
                            "2                     4.0                  2.0                     6.6   \n",
                            "3                     8.0                  5.5                    11.0   \n",
                            "4                     4.0                  1.3                     6.0   \n",
                            "\n",
                            "   fuel_comsumption_km  \n",
                            "0                100.0  \n",
                            "1                100.0  \n",
                            "2                100.0  \n",
                            "3                100.0  \n",
                            "4                100.0  "
                        ]
                    },
                    "execution_count": 2,
                    "metadata": {},
                    "output_type": "execute_result"
                }
            ],
            "source": [
                "data = pd.read_csv(\"../data/preprocessed_data.csv\")\n",
                "data.head()"
            ]
        },
        {
            "cell_type": "code",
            "execution_count": 3,
            "metadata": {},
            "outputs": [
                {
                    "data": {
                        "text/plain": [
                            "fuel_comsumption_km\n",
                            "100.0    16734\n",
                            "Name: count, dtype: int64"
                        ]
                    },
                    "execution_count": 3,
                    "metadata": {},
                    "output_type": "execute_result"
                }
            ],
            "source": [
                "data[\"fuel_comsumption_km\"].value_counts()"
            ]
        },
        {
            "cell_type": "code",
            "execution_count": 4,
            "metadata": {},
            "outputs": [
                {
                    "data": {
                        "text/plain": [
                            "Index(['Brand', 'UsedOrNew', 'Transmission', 'DriveType', 'FuelType',\n",
                            "       'BodyType', 'ExteriorColour', 'Year', 'Kilometres', 'Doors', 'Seats',\n",
                            "       'Price', 'Engine_cylinder_number', 'Engine_total_volume',\n",
                            "       'fuel_comsumption_liter', 'fuel_comsumption_km'],\n",
                            "      dtype='object')"
                        ]
                    },
                    "execution_count": 4,
                    "metadata": {},
                    "output_type": "execute_result"
                }
            ],
            "source": [
                "data.columns"
            ]
        },
        {
            "cell_type": "code",
            "execution_count": 5,
            "metadata": {},
            "outputs": [],
            "source": [
                "X, y = data.drop(columns=[\"Price\"]), data[\"Price\"]\n",
                "X_train, X_test, y_train, y_test = train_test_split(X, y, test_size=0.3, random_state=42)"
            ]
        },
        {
            "cell_type": "code",
            "execution_count": 6,
            "metadata": {},
            "outputs": [
                {
                    "data": {
                        "text/plain": [
                            "array([[ 0.        ,  0.        ,  0.        , ...,  1.49185096,\n",
                            "         1.39327292,  1.50962043],\n",
                            "       [ 0.        ,  0.        ,  0.        , ..., -0.4465423 ,\n",
                            "        -0.69119385, -0.71342509],\n",
                            "       [ 0.        ,  0.        ,  0.        , ..., -0.51867241,\n",
                            "        -1.03860498, -1.75689544],\n",
                            "       ...,\n",
                            "       [ 0.        ,  0.        ,  0.        , ..., -0.00518898,\n",
                            "        -0.45958643, -0.62268854],\n",
                            "       [ 0.        ,  0.        ,  0.        , ...,  0.65774406,\n",
                            "        -0.45958643, -0.84952992],\n",
                            "       [ 0.        ,  0.        ,  0.        , ..., -0.22674326,\n",
                            "        -1.27021239,  0.37541353]])"
                        ]
                    },
                    "execution_count": 6,
                    "metadata": {},
                    "output_type": "execute_result"
                }
            ],
            "source": [
                "categorical_features = ['Brand', 'UsedOrNew', 'Transmission', 'DriveType', 'FuelType',\n",
                "       'BodyType', 'ExteriorColour']\n",
                "ordinal_features = ['Doors', 'Seats', 'Engine_cylinder_number']\n",
                "numeric_features = ['Year', 'Kilometres', 'Engine_total_volume', 'fuel_comsumption_liter']\n",
                "drop_features = ['fuel_comsumption_liter']\n",
                "ct = make_column_transformer(\n",
                "    (OneHotEncoder(handle_unknown=\"ignore\", sparse_output=False), categorical_features),\n",
                "    (OrdinalEncoder(handle_unknown=\"use_encoded_value\", unknown_value=999), ordinal_features),\n",
                "    (StandardScaler(), numeric_features),\n",
                "    (\"drop\", drop_features)\n",
                ")\n",
                "X_train_encoded = ct.fit_transform(X_train)\n",
                "X_train_encoded"
            ]
        },
        {
            "cell_type": "code",
            "execution_count": 7,
            "metadata": {},
            "outputs": [
                {
                    "data": {
                        "text/plain": [
                            "array([[ 0.        ,  0.        ,  0.        , ...,  1.49185096,\n",
                            "         1.39327292,  1.50962043],\n",
                            "       [ 0.        ,  0.        ,  0.        , ..., -0.4465423 ,\n",
                            "        -0.69119385, -0.71342509],\n",
                            "       [ 0.        ,  0.        ,  0.        , ..., -0.51867241,\n",
                            "        -1.03860498, -1.75689544],\n",
                            "       ...,\n",
                            "       [ 0.        ,  0.        ,  0.        , ..., -0.00518898,\n",
                            "        -0.45958643, -0.62268854],\n",
                            "       [ 0.        ,  0.        ,  0.        , ...,  0.65774406,\n",
                            "        -0.45958643, -0.84952992],\n",
                            "       [ 0.        ,  0.        ,  0.        , ..., -0.22674326,\n",
                            "        -1.27021239,  0.37541353]])"
                        ]
                    },
                    "execution_count": 7,
                    "metadata": {},
                    "output_type": "execute_result"
                }
            ],
            "source": [
                "X_test_encoded = ct.transform(X_test)\n",
                "X_train_encoded"
            ]
        },
        {
            "cell_type": "markdown",
            "metadata": {},
            "source": [
                "### Fitting the model on the training data\n",
                "The `fit` function in the `ols_regressor` package will calculate the coefficients for the linear regression model using the Ordinary Least Squares (OLS) method. It converts the input features and target values into NumPy arrays. The function then augments the feature matrix with an intercept term and computes the model coefficients using the OLS formula. The resulting coefficients are stored in the `self.coef` attribute, representing the weights that minimize the sum of squared differences between the predicted and actual target values.\n",
                "\n",
                "The use of this function is demonstrated below.\n",
                "\n",
                "\n"
            ]
        },
        {
            "cell_type": "code",
            "execution_count": 8,
            "metadata": {},
            "outputs": [
                {
                    "data": {
                        "text/plain": [
                            "array([ 3.74884737e+04, -6.49553047e+01,  6.70989310e+01,  3.91987703e+03,\n",
                            "        1.68603441e+03,  2.07425208e+03, -4.35179052e+02,  5.36203410e+03,\n",
                            "       -6.73988962e+02, -5.09200008e+02,  2.00733082e+03, -5.14600919e+02,\n",
                            "       -2.91049832e+02,  2.32108854e+02,  1.73765226e+02, -7.10792758e+02,\n",
                            "        4.30511293e+02, -3.70337733e+02,  2.94562712e+02,  1.14678396e+04,\n",
                            "       -3.66827754e+02, -4.88255149e+02, -4.02263542e+02, -1.94323863e+03,\n",
                            "       -3.50529029e+02,  8.27555155e+02, -6.12315985e+02,  1.07995950e+03,\n",
                            "       -6.99965560e+02, -1.61958248e+03, -2.04318142e+03,  1.27363552e+02,\n",
                            "        4.88562079e+02, -9.28950153e+02,  3.98818342e+02, -1.88385867e+02,\n",
                            "        2.41400768e+03, -4.26962716e+02, -2.37074030e+03,  8.31800638e+02,\n",
                            "       -7.85142068e+02, -1.05629631e+03, -1.68746127e+03,  3.41748712e+03,\n",
                            "        3.43620599e+03,  1.02871783e+03,  2.41771001e+02, -2.04943635e+03,\n",
                            "       -6.57061988e+02,  2.24501264e+03, -1.38853575e+03,  8.29336225e+03,\n",
                            "        3.70765595e+03,  9.47591148e+01, -1.38939931e+03, -1.14710982e+03,\n",
                            "       -1.10422916e+02,  1.03051301e+03, -1.68512525e+02, -7.22294754e+01,\n",
                            "        4.02266342e+03, -1.62377066e+02,  1.05639093e+03, -5.21134876e+02,\n",
                            "        2.42426681e+03, -1.07092640e+02, -1.39786167e+02, -1.84207960e+02,\n",
                            "       -1.16040693e+03, -1.40704164e+03, -8.85905584e+02, -1.89992952e+02,\n",
                            "        1.61898994e+02,  1.22915905e+03, -2.28387950e+02,  3.37407571e+02,\n",
                            "        1.45625909e+03,  9.71631088e+02, -1.66408603e+03, -9.32363952e+02,\n",
                            "        9.32363952e+02,  1.57450202e+03,  1.85253163e+03, -2.07164895e+03,\n",
                            "        1.27012702e+03, -1.86086079e+03,  4.68750008e+02,  3.00321310e+03,\n",
                            "        1.46749602e+03, -2.66617626e+02,  9.78175241e+02, -3.57250367e+02,\n",
                            "       -1.83740717e+02, -1.24175694e+03,  1.25290355e+03,  2.86402751e+02,\n",
                            "        2.82234695e+03, -1.54450529e+03, -1.57129308e+01,  3.88237535e+02,\n",
                            "       -9.07530413e+02, -9.23120761e+01,  8.95345950e+02,  2.57232114e+02,\n",
                            "       -2.11212362e+02,  1.58195224e+03,  8.48449143e+03,  5.82503217e+03,\n",
                            "        7.95218360e+02,  3.76387422e+02,  1.07721434e+03, -3.69057483e+02,\n",
                            "       -3.33807791e+01, -2.70005475e+02, -2.26790388e+01, -1.76688063e+01,\n",
                            "       -2.68491803e+02,  5.09830966e+00, -2.23800338e+02,  9.03970993e+01,\n",
                            "        2.90790194e+02,  4.30106800e+01,  9.55913315e+01, -2.35839984e+01,\n",
                            "        4.67091039e+01, -5.08545432e+01, -4.96838046e+02, -9.24514447e+02,\n",
                            "        1.45074416e+02, -5.22086482e+02, -4.61327803e+01,  5.77038379e+02,\n",
                            "        1.71843528e+03,  2.22860866e+03,  6.44908047e+03, -9.82323856e+03,\n",
                            "        6.64637882e+03,  1.98462531e+02])"
                        ]
                    },
                    "execution_count": 8,
                    "metadata": {},
                    "output_type": "execute_result"
                }
            ],
            "source": [
                "model = LinearRegressor()\n",
                "model.fit(X_train_encoded, y_train)"
            ]
        },
        {
            "cell_type": "code",
            "execution_count": 9,
            "metadata": {},
            "outputs": [
                {
                    "data": {
                        "text/plain": [
                            "0.6974914521523434"
                        ]
                    },
                    "execution_count": 9,
                    "metadata": {},
                    "output_type": "execute_result"
                }
            ],
            "source": [
                "# model = LinearRegression()\n",
                "# model.fit(X_train_encoded, y_train)\n",
                "# model.score(X_train_encoded, y_train)"
            ]
        },
        {
            "cell_type": "code",
            "execution_count": null,
            "metadata": {},
            "outputs": [],
            "source": [
                "# y_train = y_train.to_numpy()"
            ]
        },
        {
            "cell_type": "code",
            "execution_count": null,
            "metadata": {},
            "outputs": [],
            "source": [
                "cv_results = cross_validate(model, X_train_encoded, y_train, 5, 42)\n",
                "pd.DataFrame(cv_results)"
            ]
        },
        {
            "cell_type": "code",
            "execution_count": null,
            "metadata": {},
            "outputs": [],
            "source": [
                "model.predict(X_test_encoded)"
            ]
        },
        {
            "cell_type": "code",
            "execution_count": null,
            "metadata": {},
            "outputs": [],
            "source": [
                "model.score(X_test_encoded, y_test)"
            ]
        }
    ],
    "metadata": {
        "kernelspec": {
            "display_name": "Python 3",
            "language": "python",
            "name": "python3"
        },
        "language_info": {
            "codemirror_mode": {
                "name": "ipython",
                "version": 3
            },
            "file_extension": ".py",
            "mimetype": "text/x-python",
            "name": "python",
            "nbconvert_exporter": "python",
            "pygments_lexer": "ipython3",
            "version": "3.12.0"
        }
    },
    "nbformat": 4,
    "nbformat_minor": 4
}
