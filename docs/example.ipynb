{
    "cells": [
        {
            "cell_type": "markdown",
            "metadata": {},
            "source": [
                "# Example usage\n",
                "\n",
                "To use `aussie_car_prices` in a project:"
            ]
        },
        {
            "cell_type": "code",
            "execution_count": 1,
            "metadata": {},
            "outputs": [],
            "source": [
                "from ols_regressor.regressor import LinearRegressor\n",
                "from ols_regressor.cross_validate import cross_validate\n",
                "import numpy as np\n",
                "import pandas as pd\n",
                "from sklearn.preprocessing import OneHotEncoder, StandardScaler, OrdinalEncoder\n",
                "from sklearn.linear_model import LinearRegression\n",
                "from sklearn.compose import make_column_transformer\n",
                "from sklearn.model_selection import train_test_split"
            ]
        },
        {
            "cell_type": "code",
            "execution_count": 2,
            "metadata": {},
            "outputs": [
                {
                    "data": {
                        "text/html": [
                            "<div>\n",
                            "<style scoped>\n",
                            "    .dataframe tbody tr th:only-of-type {\n",
                            "        vertical-align: middle;\n",
                            "    }\n",
                            "\n",
                            "    .dataframe tbody tr th {\n",
                            "        vertical-align: top;\n",
                            "    }\n",
                            "\n",
                            "    .dataframe thead th {\n",
                            "        text-align: right;\n",
                            "    }\n",
                            "</style>\n",
                            "<table border=\"1\" class=\"dataframe\">\n",
                            "  <thead>\n",
                            "    <tr style=\"text-align: right;\">\n",
                            "      <th></th>\n",
                            "      <th>Brand</th>\n",
                            "      <th>UsedOrNew</th>\n",
                            "      <th>Transmission</th>\n",
                            "      <th>DriveType</th>\n",
                            "      <th>FuelType</th>\n",
                            "      <th>BodyType</th>\n",
                            "      <th>ExteriorColour</th>\n",
                            "      <th>Year</th>\n",
                            "      <th>Kilometres</th>\n",
                            "      <th>Doors</th>\n",
                            "      <th>Seats</th>\n",
                            "      <th>Price</th>\n",
                            "      <th>Engine_cylinder_number</th>\n",
                            "      <th>Engine_total_volume</th>\n",
                            "      <th>fuel_comsumption_liter</th>\n",
                            "      <th>fuel_comsumption_km</th>\n",
                            "    </tr>\n",
                            "  </thead>\n",
                            "  <tbody>\n",
                            "    <tr>\n",
                            "      <th>0</th>\n",
                            "      <td>Ssangyong</td>\n",
                            "      <td>DEMO</td>\n",
                            "      <td>Automatic</td>\n",
                            "      <td>AWD</td>\n",
                            "      <td>Diesel</td>\n",
                            "      <td>SUV</td>\n",
                            "      <td>White</td>\n",
                            "      <td>2022</td>\n",
                            "      <td>5595.0</td>\n",
                            "      <td>4.0</td>\n",
                            "      <td>7.0</td>\n",
                            "      <td>51990.0</td>\n",
                            "      <td>4.0</td>\n",
                            "      <td>2.2</td>\n",
                            "      <td>8.7</td>\n",
                            "      <td>100.0</td>\n",
                            "    </tr>\n",
                            "    <tr>\n",
                            "      <th>1</th>\n",
                            "      <td>MG</td>\n",
                            "      <td>USED</td>\n",
                            "      <td>Automatic</td>\n",
                            "      <td>Front</td>\n",
                            "      <td>Premium</td>\n",
                            "      <td>Hatchback</td>\n",
                            "      <td>Black</td>\n",
                            "      <td>2022</td>\n",
                            "      <td>16.0</td>\n",
                            "      <td>5.0</td>\n",
                            "      <td>5.0</td>\n",
                            "      <td>19990.0</td>\n",
                            "      <td>4.0</td>\n",
                            "      <td>1.5</td>\n",
                            "      <td>6.7</td>\n",
                            "      <td>100.0</td>\n",
                            "    </tr>\n",
                            "    <tr>\n",
                            "      <th>2</th>\n",
                            "      <td>BMW</td>\n",
                            "      <td>USED</td>\n",
                            "      <td>Automatic</td>\n",
                            "      <td>Rear</td>\n",
                            "      <td>Premium</td>\n",
                            "      <td>Coupe</td>\n",
                            "      <td>Grey</td>\n",
                            "      <td>2022</td>\n",
                            "      <td>8472.0</td>\n",
                            "      <td>2.0</td>\n",
                            "      <td>4.0</td>\n",
                            "      <td>108988.0</td>\n",
                            "      <td>4.0</td>\n",
                            "      <td>2.0</td>\n",
                            "      <td>6.6</td>\n",
                            "      <td>100.0</td>\n",
                            "    </tr>\n",
                            "    <tr>\n",
                            "      <th>3</th>\n",
                            "      <td>Mercedes-Benz</td>\n",
                            "      <td>USED</td>\n",
                            "      <td>Automatic</td>\n",
                            "      <td>Rear</td>\n",
                            "      <td>Premium</td>\n",
                            "      <td>Coupe</td>\n",
                            "      <td>White</td>\n",
                            "      <td>2011</td>\n",
                            "      <td>136517.0</td>\n",
                            "      <td>2.0</td>\n",
                            "      <td>4.0</td>\n",
                            "      <td>32990.0</td>\n",
                            "      <td>8.0</td>\n",
                            "      <td>5.5</td>\n",
                            "      <td>11.0</td>\n",
                            "      <td>100.0</td>\n",
                            "    </tr>\n",
                            "    <tr>\n",
                            "      <th>4</th>\n",
                            "      <td>Renault</td>\n",
                            "      <td>USED</td>\n",
                            "      <td>Automatic</td>\n",
                            "      <td>Front</td>\n",
                            "      <td>Unleaded</td>\n",
                            "      <td>SUV</td>\n",
                            "      <td>Grey</td>\n",
                            "      <td>2022</td>\n",
                            "      <td>1035.0</td>\n",
                            "      <td>4.0</td>\n",
                            "      <td>5.0</td>\n",
                            "      <td>34990.0</td>\n",
                            "      <td>4.0</td>\n",
                            "      <td>1.3</td>\n",
                            "      <td>6.0</td>\n",
                            "      <td>100.0</td>\n",
                            "    </tr>\n",
                            "  </tbody>\n",
                            "</table>\n",
                            "</div>"
                        ],
                        "text/plain": [
                            "           Brand UsedOrNew Transmission DriveType  FuelType   BodyType  \\\n",
                            "0      Ssangyong      DEMO    Automatic       AWD    Diesel        SUV   \n",
                            "1             MG      USED    Automatic     Front   Premium  Hatchback   \n",
                            "2            BMW      USED    Automatic      Rear   Premium      Coupe   \n",
                            "3  Mercedes-Benz      USED    Automatic      Rear   Premium      Coupe   \n",
                            "4        Renault      USED    Automatic     Front  Unleaded        SUV   \n",
                            "\n",
                            "  ExteriorColour  Year  Kilometres  Doors  Seats     Price  \\\n",
                            "0         White   2022      5595.0    4.0    7.0   51990.0   \n",
                            "1         Black   2022        16.0    5.0    5.0   19990.0   \n",
                            "2          Grey   2022      8472.0    2.0    4.0  108988.0   \n",
                            "3         White   2011    136517.0    2.0    4.0   32990.0   \n",
                            "4          Grey   2022      1035.0    4.0    5.0   34990.0   \n",
                            "\n",
                            "   Engine_cylinder_number  Engine_total_volume  fuel_comsumption_liter  \\\n",
                            "0                     4.0                  2.2                     8.7   \n",
                            "1                     4.0                  1.5                     6.7   \n",
                            "2                     4.0                  2.0                     6.6   \n",
                            "3                     8.0                  5.5                    11.0   \n",
                            "4                     4.0                  1.3                     6.0   \n",
                            "\n",
                            "   fuel_comsumption_km  \n",
                            "0                100.0  \n",
                            "1                100.0  \n",
                            "2                100.0  \n",
                            "3                100.0  \n",
                            "4                100.0  "
                        ]
                    },
                    "execution_count": 2,
                    "metadata": {},
                    "output_type": "execute_result"
                }
            ],
            "source": [
                "data = pd.read_csv(\"../data/preprocessed_data.csv\")\n",
                "data.head()"
            ]
        },
        {
            "cell_type": "code",
            "execution_count": 3,
            "metadata": {},
            "outputs": [
                {
                    "data": {
                        "text/plain": [
                            "fuel_comsumption_km\n",
                            "100.0    16734\n",
                            "Name: count, dtype: int64"
                        ]
                    },
                    "execution_count": 3,
                    "metadata": {},
                    "output_type": "execute_result"
                }
            ],
            "source": [
                "data[\"fuel_comsumption_km\"].value_counts()"
            ]
        },
        {
            "cell_type": "code",
            "execution_count": 4,
            "metadata": {},
            "outputs": [
                {
                    "data": {
                        "text/plain": [
                            "Index(['Brand', 'UsedOrNew', 'Transmission', 'DriveType', 'FuelType',\n",
                            "       'BodyType', 'ExteriorColour', 'Year', 'Kilometres', 'Doors', 'Seats',\n",
                            "       'Price', 'Engine_cylinder_number', 'Engine_total_volume',\n",
                            "       'fuel_comsumption_liter', 'fuel_comsumption_km'],\n",
                            "      dtype='object')"
                        ]
                    },
                    "execution_count": 4,
                    "metadata": {},
                    "output_type": "execute_result"
                }
            ],
            "source": [
                "data.columns"
            ]
        },
        {
            "cell_type": "code",
            "execution_count": 5,
            "metadata": {},
            "outputs": [],
            "source": [
                "X, y = data.drop(columns=[\"Price\"]), data[\"Price\"]\n",
                "X_train, X_test, y_train, y_test = train_test_split(X, y, test_size=0.3, random_state=42)"
            ]
        },
        {
            "cell_type": "code",
            "execution_count": 6,
            "metadata": {},
            "outputs": [
                {
                    "data": {
                        "text/plain": [
                            "array([[ 0.        ,  0.        ,  0.        , ...,  1.49185096,\n",
                            "         1.39327292,  1.50962043],\n",
                            "       [ 0.        ,  0.        ,  0.        , ..., -0.4465423 ,\n",
                            "        -0.69119385, -0.71342509],\n",
                            "       [ 0.        ,  0.        ,  0.        , ..., -0.51867241,\n",
                            "        -1.03860498, -1.75689544],\n",
                            "       ...,\n",
                            "       [ 0.        ,  0.        ,  0.        , ..., -0.00518898,\n",
                            "        -0.45958643, -0.62268854],\n",
                            "       [ 0.        ,  0.        ,  0.        , ...,  0.65774406,\n",
                            "        -0.45958643, -0.84952992],\n",
                            "       [ 0.        ,  0.        ,  0.        , ..., -0.22674326,\n",
                            "        -1.27021239,  0.37541353]])"
                        ]
                    },
                    "execution_count": 6,
                    "metadata": {},
                    "output_type": "execute_result"
                }
            ],
            "source": [
                "categorical_features = ['Brand', 'UsedOrNew', 'Transmission', 'DriveType', 'FuelType',\n",
                "       'BodyType', 'ExteriorColour']\n",
                "ordinal_features = ['Doors', 'Seats', 'Engine_cylinder_number']\n",
                "numeric_features = ['Year', 'Kilometres', 'Engine_total_volume', 'fuel_comsumption_liter']\n",
                "drop_features = ['fuel_comsumption_liter']\n",
                "ct = make_column_transformer(\n",
                "    (OneHotEncoder(handle_unknown=\"ignore\", sparse_output=False), categorical_features),\n",
                "    (OrdinalEncoder(handle_unknown=\"use_encoded_value\", unknown_value=999), ordinal_features),\n",
                "    (StandardScaler(), numeric_features),\n",
                "    (\"drop\", drop_features)\n",
                ")\n",
                "X_train_encoded = ct.fit_transform(X_train)\n",
                "X_train_encoded"
            ]
        },
        {
            "cell_type": "code",
            "execution_count": 7,
            "metadata": {},
            "outputs": [
                {
                    "data": {
                        "text/plain": [
                            "array([[ 0.        ,  0.        ,  0.        , ...,  1.49185096,\n",
                            "         1.39327292,  1.50962043],\n",
                            "       [ 0.        ,  0.        ,  0.        , ..., -0.4465423 ,\n",
                            "        -0.69119385, -0.71342509],\n",
                            "       [ 0.        ,  0.        ,  0.        , ..., -0.51867241,\n",
                            "        -1.03860498, -1.75689544],\n",
                            "       ...,\n",
                            "       [ 0.        ,  0.        ,  0.        , ..., -0.00518898,\n",
                            "        -0.45958643, -0.62268854],\n",
                            "       [ 0.        ,  0.        ,  0.        , ...,  0.65774406,\n",
                            "        -0.45958643, -0.84952992],\n",
                            "       [ 0.        ,  0.        ,  0.        , ..., -0.22674326,\n",
                            "        -1.27021239,  0.37541353]])"
                        ]
                    },
                    "execution_count": 7,
                    "metadata": {},
                    "output_type": "execute_result"
                }
            ],
            "source": [
                "X_test_encoded = ct.transform(X_test)\n",
                "X_train_encoded"
            ]
        },
        {
            "cell_type": "code",
            "execution_count": 8,
            "metadata": {},
            "outputs": [
                {
                    "data": {
                        "text/plain": [
                            "-387091.894703509"
                        ]
                    },
                    "execution_count": 8,
                    "metadata": {},
                    "output_type": "execute_result"
                }
            ],
            "source": [
                "model = LinearRegressor()\n",
                "model.fit(X_train_encoded, y_train)\n",
                "model.score(X_train_encoded, y_train)"
            ]
        },
        {
            "cell_type": "code",
            "execution_count": 9,
            "metadata": {},
            "outputs": [
                {
                    "data": {
                        "text/plain": [
                            "array([ 4.42918218e+19,  4.42918218e+19,  4.42918218e+19,  4.42918218e+19,\n",
                            "        4.42918218e+19,  4.42918218e+19,  4.42918218e+19,  1.05664723e+22,\n",
                            "        4.42918218e+19,  4.42918218e+19,  4.42918218e+19,  4.42918218e+19,\n",
                            "        4.42918218e+19,  4.42918218e+19,  4.42918218e+19,  4.42918218e+19,\n",
                            "        4.42918218e+19,  4.42918218e+19,  4.42918218e+19,  4.42918218e+19,\n",
                            "        4.42918218e+19,  4.42918218e+19,  4.42918218e+19,  4.42918218e+19,\n",
                            "        4.42918218e+19,  4.42918218e+19,  4.42918218e+19,  4.42918218e+19,\n",
                            "        4.42918218e+19,  4.42918218e+19,  4.42918218e+19,  4.42918218e+19,\n",
                            "        4.42918218e+19,  4.42918218e+19,  4.42918218e+19,  1.05664723e+22,\n",
                            "        4.42918218e+19,  4.42918218e+19,  4.42918218e+19,  4.42918218e+19,\n",
                            "        4.42918218e+19,  4.42918218e+19,  4.42918218e+19,  4.42918218e+19,\n",
                            "        4.42918218e+19,  4.42918218e+19,  4.42918218e+19,  4.42918218e+19,\n",
                            "        4.42918218e+19,  4.42918218e+19,  4.42918218e+19,  4.42918218e+19,\n",
                            "        4.42918218e+19,  4.42918218e+19,  4.42918218e+19,  4.42918218e+19,\n",
                            "        4.42918218e+19,  4.42918218e+19,  4.42918218e+19,  4.42918218e+19,\n",
                            "        4.42918218e+19,  4.42918218e+19,  4.42918218e+19,  4.42918218e+19,\n",
                            "        4.42918218e+19,  4.42918218e+19,  4.42918218e+19,  4.42918218e+19,\n",
                            "        4.42918218e+19,  4.42918218e+19,  4.42918218e+19,  4.42918218e+19,\n",
                            "        4.42918218e+19,  4.42918218e+19,  4.42918218e+19, -1.75149817e+19,\n",
                            "       -1.75149817e+19, -1.75149817e+19, -1.53047290e+19, -1.53047290e+19,\n",
                            "       -1.14913311e+19, -1.14913311e+19, -1.14913311e+19, -1.14913311e+19,\n",
                            "       -1.14913311e+19, -3.12583013e+17, -3.12583013e+17, -3.12583013e+17,\n",
                            "       -3.12583013e+17, -3.12583013e+17, -3.12583013e+17, -3.12583013e+17,\n",
                            "       -3.12583013e+17,  3.31802936e+17,  3.31802936e+17,  3.31802936e+17,\n",
                            "        3.31802936e+17,  3.31802936e+17,  3.31802936e+17,  3.31802936e+17,\n",
                            "        3.31802936e+17,  3.31802936e+17,  3.31802936e+17,  1.15458239e+05,\n",
                            "       -1.05221805e+22,  1.70152662e+06,  5.28983291e+05,  6.79364103e+04,\n",
                            "        6.15192092e+04,  7.76693428e+04, -2.88095468e+04,  7.41131700e+04,\n",
                            "        3.37600446e+04, -9.37226324e+03, -5.43635056e+02, -4.58465247e+04,\n",
                            "        4.34478597e+04, -5.41079786e+04,  1.86407422e+04,  1.14356419e+05,\n",
                            "        2.00940036e+04,  1.37280160e+04,  2.00199094e+04,  1.67399882e+04,\n",
                            "        2.52745163e+04, -1.58841737e+04,  8.42177451e+03,  4.15838168e+03,\n",
                            "        1.28407214e+03, -6.89423830e+03,  2.43858122e+02,  5.68393178e+02,\n",
                            "        7.05097767e+02,  6.44909597e+03, -9.82334576e+03,  6.64661923e+03,\n",
                            "        1.98428109e+02])"
                        ]
                    },
                    "execution_count": 9,
                    "metadata": {},
                    "output_type": "execute_result"
                }
            ],
            "source": [
                "model.coef"
            ]
        },
        {
            "cell_type": "code",
            "execution_count": 10,
            "metadata": {},
            "outputs": [],
            "source": [
                "model = LinearRegression()\n",
                "# model.fit(X_train_encoded, y_train)\n",
                "# model.score(X_train_encoded, y_train)"
            ]
        },
        {
            "cell_type": "code",
            "execution_count": 11,
            "metadata": {},
            "outputs": [],
            "source": [
                "y_train = y_train.to_numpy()"
            ]
        },
        {
            "cell_type": "code",
            "execution_count": 12,
            "metadata": {},
            "outputs": [
                {
                    "data": {
                        "text/html": [
                            "<div>\n",
                            "<style scoped>\n",
                            "    .dataframe tbody tr th:only-of-type {\n",
                            "        vertical-align: middle;\n",
                            "    }\n",
                            "\n",
                            "    .dataframe tbody tr th {\n",
                            "        vertical-align: top;\n",
                            "    }\n",
                            "\n",
                            "    .dataframe thead th {\n",
                            "        text-align: right;\n",
                            "    }\n",
                            "</style>\n",
                            "<table border=\"1\" class=\"dataframe\">\n",
                            "  <thead>\n",
                            "    <tr style=\"text-align: right;\">\n",
                            "      <th></th>\n",
                            "      <th>train_score</th>\n",
                            "      <th>test_score</th>\n",
                            "      <th>fit_time</th>\n",
                            "      <th>score_time</th>\n",
                            "    </tr>\n",
                            "  </thead>\n",
                            "  <tbody>\n",
                            "    <tr>\n",
                            "      <th>0</th>\n",
                            "      <td>0.693631</td>\n",
                            "      <td>-3.291663e+18</td>\n",
                            "      <td>0.066387</td>\n",
                            "      <td>0.000577</td>\n",
                            "    </tr>\n",
                            "    <tr>\n",
                            "      <th>1</th>\n",
                            "      <td>0.708387</td>\n",
                            "      <td>-7.799086e+19</td>\n",
                            "      <td>0.058461</td>\n",
                            "      <td>0.000544</td>\n",
                            "    </tr>\n",
                            "    <tr>\n",
                            "      <th>2</th>\n",
                            "      <td>0.688458</td>\n",
                            "      <td>-4.924776e+17</td>\n",
                            "      <td>0.054068</td>\n",
                            "      <td>0.000684</td>\n",
                            "    </tr>\n",
                            "    <tr>\n",
                            "      <th>3</th>\n",
                            "      <td>0.746368</td>\n",
                            "      <td>-2.566022e+20</td>\n",
                            "      <td>0.057634</td>\n",
                            "      <td>0.000543</td>\n",
                            "    </tr>\n",
                            "    <tr>\n",
                            "      <th>4</th>\n",
                            "      <td>0.693523</td>\n",
                            "      <td>-8.215433e+18</td>\n",
                            "      <td>0.067344</td>\n",
                            "      <td>0.000506</td>\n",
                            "    </tr>\n",
                            "    <tr>\n",
                            "      <th>5</th>\n",
                            "      <td>0.697379</td>\n",
                            "      <td>-1.922348e+01</td>\n",
                            "      <td>0.064658</td>\n",
                            "      <td>0.000285</td>\n",
                            "    </tr>\n",
                            "  </tbody>\n",
                            "</table>\n",
                            "</div>"
                        ],
                        "text/plain": [
                            "   train_score    test_score  fit_time  score_time\n",
                            "0     0.693631 -3.291663e+18  0.066387    0.000577\n",
                            "1     0.708387 -7.799086e+19  0.058461    0.000544\n",
                            "2     0.688458 -4.924776e+17  0.054068    0.000684\n",
                            "3     0.746368 -2.566022e+20  0.057634    0.000543\n",
                            "4     0.693523 -8.215433e+18  0.067344    0.000506\n",
                            "5     0.697379 -1.922348e+01  0.064658    0.000285"
                        ]
                    },
                    "execution_count": 12,
                    "metadata": {},
                    "output_type": "execute_result"
                }
            ],
            "source": [
                "cv_results = cross_validate(model, X_train_encoded, y_train, 5, 42)\n",
                "pd.DataFrame(cv_results)"
            ]
        },
        {
            "cell_type": "markdown",
            "metadata": {},
            "source": [
                "### Predicting with the Fitted Model\n",
                "Now that our regression model has been fitted, it is time to utilize it for making predictions on unseen data. The `predict` function within the `ols_regressor` package has been designed for this purpose. This function expects an array-like matrix X of shape (n_samples, n_features) as input, so that we can compute the predicted target values with the coefficients stored in the `self.coef` attribute. The `predict` function will return an array contains the model's predictions based on the provided input features.\n",
                "\n",
                "The use of this function is demonstrated below."
            ]
        },
        {
            "cell_type": "code",
            "execution_count": 13,
            "metadata": {},
            "outputs": [
                {
                    "data": {
                        "text/plain": [
                            "array([57856., 72576., 69120., ..., 42880., 33952., 23520.])"
                        ]
                    },
                    "execution_count": 13,
                    "metadata": {},
                    "output_type": "execute_result"
                }
            ],
            "source": [
                "model.predict(X_test_encoded)"
            ]
        },
        {
            "cell_type": "code",
            "execution_count": 14,
            "metadata": {},
            "outputs": [
                {
                    "data": {
                        "text/plain": [
                            "0.40563675363320206"
                        ]
                    },
                    "execution_count": 14,
                    "metadata": {},
                    "output_type": "execute_result"
                }
            ],
            "source": [
                "model.score(X_test_encoded, y_test)"
            ]
        }
    ],
    "metadata": {
        "kernelspec": {
            "display_name": "Python 3",
            "language": "python",
            "name": "python3"
        },
        "language_info": {
            "codemirror_mode": {
                "name": "ipython",
                "version": 3
            },
            "file_extension": ".py",
            "mimetype": "text/x-python",
            "name": "python",
            "nbconvert_exporter": "python",
            "pygments_lexer": "ipython3",
            "version": "3.9.18"
        }
    },
    "nbformat": 4,
    "nbformat_minor": 4
}
